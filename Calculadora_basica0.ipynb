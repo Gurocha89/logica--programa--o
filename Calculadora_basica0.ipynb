{
  "cells": [
    {
      "cell_type": "markdown",
      "metadata": {
        "id": "view-in-github",
        "colab_type": "text"
      },
      "source": [
        "<a href=\"https://colab.research.google.com/github/Gurocha89/logica--programa--o/blob/main/Calculadora_basica0.ipynb\" target=\"_parent\"><img src=\"https://colab.research.google.com/assets/colab-badge.svg\" alt=\"Open In Colab\"/></a>"
      ]
    },
    {
      "cell_type": "markdown",
      "metadata": {
        "id": "sFz9N-L-TdcU"
      },
      "source": [
        "#Calculadora Matemática Básica\n"
      ]
    },
    {
      "cell_type": "code",
      "execution_count": null,
      "metadata": {
        "colab": {
          "background_save": true,
          "base_uri": "https://localhost:8080/"
        },
        "id": "k_g2QL-XTm3k",
        "outputId": "22422dd9-cadc-429d-c0c7-c22ff6fae21a"
      },
      "outputs": [
        {
          "name": "stdout",
          "output_type": "stream",
          "text": [
            "\n",
            "Escolha a operação:\n",
            "1. soma\n",
            "2. subtração\n",
            "3. Multiplicação\n",
            "4. Divisão\n",
            "5. Sair\n",
            "Resultado da divisão: 0.9806399237597726\n",
            "\n",
            "Escolha a operação:\n",
            "1. soma\n",
            "2. subtração\n",
            "3. Multiplicação\n",
            "4. Divisão\n",
            "5. Sair\n",
            "REsultado da sutração -10.970000000000027\n",
            "\n",
            "Escolha a operação:\n",
            "1. soma\n",
            "2. subtração\n",
            "3. Multiplicação\n",
            "4. Divisão\n",
            "5. Sair\n"
          ]
        }
      ],
      "source": [
        "numero1= input(\"Digite o primeiro número:\")\n",
        "numero2= input(\"Digite o segundo número:\")\n",
        "numero1 = float (numero1)\n",
        "numero2 = float (numero2)\n",
        "soma = numero1 + numero2\n",
        "subtracao = numero1 - numero2\n",
        "multiplicacao = numero1 * numero2\n",
        "divisao = numero1 / numero2\n",
        "\n",
        "while True:\n",
        "  print(\"\\nEscolha a operação:\")\n",
        "  print(\"1. soma\")\n",
        "  print(\"2. subtração\")\n",
        "  print(\"3. Multiplicação\")\n",
        "  print(\"4. Divisão\")\n",
        "  print(\"5. Sair\")\n",
        "\n",
        "  escolha = input(\"Digite o númer da operação desejada: \")\n",
        "\n",
        "  if escolha==\"1\":\n",
        "    print(\"Resultado da soma:\", soma)\n",
        "  elif escolha == '2':\n",
        "       print(\"REsultado da sutração\", subtracao)\n",
        "  elif escolha=='3':\n",
        "       print(\"Resultado da multiplicação:\", multiplicacao)\n",
        "  elif escolha=='4':\n",
        "       if numero2 == 0:\n",
        "          print(\"Erro: Divisão por zero!\")\n",
        "       else:\n",
        "           print(\"Resultado da divisão:\", divisao)\n",
        "  elif escolha =='5' :\n",
        "      print(\"Encerrando o programa.\")\n",
        "      break\n",
        "  else:\n",
        "      print(\"Opção invalida. Tente novamente.\")\n"
      ]
    },
    {
      "cell_type": "code",
      "execution_count": null,
      "metadata": {
        "id": "UTDxrhIzYLvA"
      },
      "outputs": [],
      "source": []
    }
  ],
  "metadata": {
    "colab": {
      "provenance": [],
      "authorship_tag": "ABX9TyPDoJVRyF/TtH9Ew/MpJArd",
      "include_colab_link": true
    },
    "kernelspec": {
      "display_name": "Python 3",
      "name": "python3"
    },
    "language_info": {
      "name": "python"
    }
  },
  "nbformat": 4,
  "nbformat_minor": 0
}